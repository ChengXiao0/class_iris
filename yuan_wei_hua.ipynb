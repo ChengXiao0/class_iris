{
 "cells": [
  {
   "cell_type": "code",
   "execution_count": 1,
   "id": "orange-transcription",
   "metadata": {},
   "outputs": [],
   "source": [
    "import torch\n",
    "import numpy"
   ]
  },
  {
   "cell_type": "code",
   "execution_count": 3,
   "id": "armed-photograph",
   "metadata": {},
   "outputs": [],
   "source": [
    "from sklearn import datasets"
   ]
  },
  {
   "cell_type": "code",
   "execution_count": 5,
   "id": "informed-complement",
   "metadata": {},
   "outputs": [],
   "source": [
    "da = datasets.load_iris()\n",
    "dataut = da['data']\n",
    "priciple = da['target']"
   ]
  },
  {
   "cell_type": "code",
   "execution_count": 7,
   "id": "dressed-affiliate",
   "metadata": {},
   "outputs": [
    {
     "name": "stdout",
     "output_type": "stream",
     "text": [
      "(150, 4)\n"
     ]
    }
   ],
   "source": [
    "print( dataut.shape)"
   ]
  },
  {
   "cell_type": "code",
   "execution_count": 23,
   "id": "certified-amendment",
   "metadata": {},
   "outputs": [
    {
     "name": "stdout",
     "output_type": "stream",
     "text": [
      "[0 0 0 0 0 0 0 0 0 0 0 0 0 0 0 0 0 0 0 0 0 0 0 0 0 0 0 0 0 0 0 0 0 0 0 0 0\n",
      " 0 0 0 0 0 0 0 0 0 0 0 0 0 1 1 1 1 1 1 1 1 1 1 1 1 1 1 1 1 1 1 1 1 1 1 1 1\n",
      " 1 1 1 1 1 1 1 1 1 1 1 1 1 1 1 1 1 1 1 1 1 1 1 1 1 1 2 2 2 2 2 2 2 2 2 2 2\n",
      " 2 2 2 2 2 2 2 2 2 2 2 2 2 2 2 2 2 2 2 2 2 2 2 2 2 2 2 2 2 2 2 2 2 2 2 2 2\n",
      " 2 2]\n"
     ]
    }
   ],
   "source": [
    "print(priciple)"
   ]
  },
  {
   "cell_type": "code",
   "execution_count": 10,
   "id": "fossil-scout",
   "metadata": {},
   "outputs": [],
   "source": [
    "inputData = torch.FloatTensor(dataut)\n",
    "lable = torch.LongTensor(priciple)"
   ]
  },
  {
   "cell_type": "code",
   "execution_count": 11,
   "id": "useful-madison",
   "metadata": {},
   "outputs": [],
   "source": [
    "class Net(torch.nn.Module):\n",
    "    def __init__(self, n_feature, n_hidden, n_output):\n",
    "        super(Net, self).__init__()\n",
    "        self.hidden = torch.nn.Linear(n_feature, n_hidden)\n",
    "        self.out = torch.nn.Linear(n_hidden, n_output)\n",
    "        \n",
    "    def forward(self, x):\n",
    "        x = torch.nn.functional.relu(self.hidden(x))\n",
    "        x = self.out(x)\n",
    "        return x"
   ]
  },
  {
   "cell_type": "code",
   "execution_count": 12,
   "id": "pleased-browse",
   "metadata": {},
   "outputs": [],
   "source": [
    "net = Net(n_feature=4, n_hidden=20, n_output=3)\n",
    "optimizer = torch.optim.SGD(net.parameters(), lr=0.02)\n",
    "loss_func = torch.nn.CrossEntropyLoss()"
   ]
  },
  {
   "cell_type": "markdown",
   "id": "hollow-bathroom",
   "metadata": {},
   "source": [
    "### 500"
   ]
  },
  {
   "cell_type": "code",
   "execution_count": 13,
   "id": "sought-symposium",
   "metadata": {},
   "outputs": [],
   "source": [
    "for t in range(500):\n",
    "    out = net(inputData)\n",
    "    loss = loss_func(out, lable)\n",
    "    optimizer.zero_grad()\n",
    "    loss.backward()\n",
    "    optimizer.step()"
   ]
  },
  {
   "cell_type": "code",
   "execution_count": 16,
   "id": "digital-quarterly",
   "metadata": {},
   "outputs": [
    {
     "name": "stdout",
     "output_type": "stream",
     "text": [
      "莺尾花预测准确率 0.98\n"
     ]
    }
   ],
   "source": [
    "out = net(inputData)\n",
    "prediction = torch.max(out, 1)[1]\n",
    "pred_y = prediction.data.numpy()\n",
    "target_y = lable.data.numpy()\n",
    "accuracy = float((pred_y == target_y).astype(int).sum()) / float(target_y.size)\n",
    "print(\"莺尾花预测准确率\",accuracy)"
   ]
  },
  {
   "cell_type": "code",
   "execution_count": 24,
   "id": "proprietary-helen",
   "metadata": {},
   "outputs": [
    {
     "name": "stdout",
     "output_type": "stream",
     "text": [
      "tensor([[9.6678e-01, 3.3219e-02, 2.9312e-06],\n",
      "        [1.1979e-04, 1.2746e-01, 8.7242e-01],\n",
      "        [9.8634e-01, 1.3664e-02, 2.8429e-07],\n",
      "        [6.8276e-03, 7.6383e-01, 2.2934e-01],\n",
      "        [4.4307e-05, 7.2063e-02, 9.2789e-01],\n",
      "        [9.8203e-01, 1.7974e-02, 6.2115e-07]], grad_fn=<SoftmaxBackward>)\n"
     ]
    },
    {
     "name": "stderr",
     "output_type": "stream",
     "text": [
      "/home/chengxiao123/.local/lib/python3.7/site-packages/ipykernel_launcher.py:11: UserWarning: Implicit dimension choice for softmax has been deprecated. Change the call to include dim=X as an argument.\n",
      "  # This is added back by InteractiveShellApp.init_path()\n"
     ]
    }
   ],
   "source": [
    "tData = [\n",
    "    [4.9, 3.1, 1.5, 0.1],\n",
    "    [6.3, 2.9, 5.6, 1.8],\n",
    "    [5.4, 3.7, 1.5, 0.2],\n",
    "    [6.3, 2.3, 4.4, 1.3],\n",
    "    [6.4, 2.8, 5.6, 2.1],\n",
    "    [5.2, 3.4, 1.4, 0.2]\n",
    "]\n",
    "tds = torch.tensor(tData)\n",
    "tOut = net(tds)\n",
    "print(torch.nn.functional.softmax(tOut))"
   ]
  }
 ],
 "metadata": {
  "kernelspec": {
   "display_name": "Python 3",
   "language": "python",
   "name": "python3"
  },
  "language_info": {
   "codemirror_mode": {
    "name": "ipython",
    "version": 3
   },
   "file_extension": ".py",
   "mimetype": "text/x-python",
   "name": "python",
   "nbconvert_exporter": "python",
   "pygments_lexer": "ipython3",
   "version": "3.7.9"
  }
 },
 "nbformat": 4,
 "nbformat_minor": 5
}
